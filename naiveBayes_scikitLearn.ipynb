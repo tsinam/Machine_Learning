{
 "cells": [
  {
   "cell_type": "markdown",
   "id": "7bd45d1a",
   "metadata": {},
   "source": [
    "## Implementation of Naive Bayes using Scikit Learn \n",
    "#### MCA404B Machine Learning\n",
    "#### Instructor: Tejmani Sinam, Manipur University, Dated 07-06-2022 \n"
   ]
  },
  {
   "cell_type": "code",
   "execution_count": 1,
   "id": "0a9d195c",
   "metadata": {},
   "outputs": [],
   "source": [
    "#Import the necessary Python modules"
   ]
  },
  {
   "cell_type": "code",
   "execution_count": 2,
   "id": "ff295266",
   "metadata": {},
   "outputs": [],
   "source": [
    "import pandas as pd\n",
    "import numpy as np\n",
    "import matplotlib.pyplot as plt"
   ]
  },
  {
   "cell_type": "code",
   "execution_count": 3,
   "id": "f152972d",
   "metadata": {},
   "outputs": [],
   "source": [
    "#Import the Scikit Learn ML Libraries"
   ]
  },
  {
   "cell_type": "code",
   "execution_count": 4,
   "id": "db1332cf",
   "metadata": {},
   "outputs": [],
   "source": [
    "from sklearn.model_selection import train_test_split\n",
    "from sklearn.metrics import confusion_matrix\n",
    "from sklearn.metrics import classification_report\n",
    "from sklearn.naive_bayes import GaussianNB\n",
    "from sklearn.datasets import load_iris"
   ]
  },
  {
   "cell_type": "code",
   "execution_count": 5,
   "id": "8d078b14",
   "metadata": {},
   "outputs": [],
   "source": [
    "# Read in the data using Scikit Learn function load_iris()"
   ]
  },
  {
   "cell_type": "code",
   "execution_count": 7,
   "id": "b105bcd7",
   "metadata": {},
   "outputs": [],
   "source": [
    "X, y = load_iris(return_X_y=True)\n",
    "#print(df.head())"
   ]
  },
  {
   "cell_type": "code",
   "execution_count": 9,
   "id": "976aca07",
   "metadata": {},
   "outputs": [],
   "source": [
    "# Split the Labelled data set into Training and Testing sets"
   ]
  },
  {
   "cell_type": "code",
   "execution_count": 10,
   "id": "dc13710b",
   "metadata": {},
   "outputs": [],
   "source": [
    "X_train, X_test, y_train, y_test = train_test_split(X, y, random_state=4)"
   ]
  },
  {
   "cell_type": "code",
   "execution_count": 11,
   "id": "af5bb5ce",
   "metadata": {},
   "outputs": [],
   "source": [
    "# Instansiate a Logistic Regression Object and Train the model\n",
    "# using the training data set"
   ]
  },
  {
   "cell_type": "code",
   "execution_count": 12,
   "id": "437033cb",
   "metadata": {},
   "outputs": [
    {
     "data": {
      "text/plain": [
       "GaussianNB()"
      ]
     },
     "execution_count": 12,
     "metadata": {},
     "output_type": "execute_result"
    }
   ],
   "source": [
    "NB = GaussianNB()\n",
    "NB.fit(X_train, y_train)"
   ]
  },
  {
   "cell_type": "code",
   "execution_count": 13,
   "id": "b95b1409",
   "metadata": {},
   "outputs": [],
   "source": [
    "# Predict the Testing data set"
   ]
  },
  {
   "cell_type": "code",
   "execution_count": 14,
   "id": "e63d91e9",
   "metadata": {},
   "outputs": [],
   "source": [
    "y_pred = NB.predict(X_test)"
   ]
  },
  {
   "cell_type": "code",
   "execution_count": 15,
   "id": "3f689c29",
   "metadata": {},
   "outputs": [],
   "source": [
    "# Print the Results: Theta values, Confusion Matrix, Accuracy, Precision, Recall and F1-Score"
   ]
  },
  {
   "cell_type": "code",
   "execution_count": 16,
   "id": "0862bef8",
   "metadata": {},
   "outputs": [
    {
     "name": "stdout",
     "output_type": "stream",
     "text": [
      "\n",
      "Confusion Matrics\n",
      "[[18  0  0]\n",
      " [ 0  8  0]\n",
      " [ 0  1 11]]\n",
      "\n",
      "Classification Results\n",
      "              precision    recall  f1-score   support\n",
      "\n",
      "           0       1.00      1.00      1.00        18\n",
      "           1       0.89      1.00      0.94         8\n",
      "           2       1.00      0.92      0.96        12\n",
      "\n",
      "    accuracy                           0.97        38\n",
      "   macro avg       0.96      0.97      0.97        38\n",
      "weighted avg       0.98      0.97      0.97        38\n",
      "\n"
     ]
    }
   ],
   "source": [
    "confusion_matrix1 = confusion_matrix(y_test, y_pred)\n",
    "print()\n",
    "print(\"Confusion Matrics\")\n",
    "print(confusion_matrix1)\n",
    "\n",
    "result = classification_report(y_test,y_pred)\n",
    "print()\n",
    "print(\"Classification Results\")\n",
    "print(result)"
   ]
  },
  {
   "cell_type": "code",
   "execution_count": null,
   "id": "e604bf7d",
   "metadata": {},
   "outputs": [],
   "source": []
  }
 ],
 "metadata": {
  "kernelspec": {
   "display_name": "Python 3",
   "language": "python",
   "name": "python3"
  },
  "language_info": {
   "codemirror_mode": {
    "name": "ipython",
    "version": 3
   },
   "file_extension": ".py",
   "mimetype": "text/x-python",
   "name": "python",
   "nbconvert_exporter": "python",
   "pygments_lexer": "ipython3",
   "version": "3.8.8"
  }
 },
 "nbformat": 4,
 "nbformat_minor": 5
}
