{
 "cells": [
  {
   "cell_type": "markdown",
   "id": "7bd45d1a",
   "metadata": {},
   "source": [
    "## Implementation of Logistic Regression using Scikit Learn \n",
    "#### MCA404B Machine Learning\n",
    "#### Instructor: Tejmani Sinam, Manipur University, Dated 06-06-2022 \n"
   ]
  },
  {
   "cell_type": "code",
   "execution_count": 1,
   "id": "0a9d195c",
   "metadata": {},
   "outputs": [],
   "source": [
    "#Import the necessary Python modules"
   ]
  },
  {
   "cell_type": "code",
   "execution_count": 2,
   "id": "ff295266",
   "metadata": {},
   "outputs": [],
   "source": [
    "import pandas as pd\n",
    "import numpy as np\n",
    "import matplotlib.pyplot as plt"
   ]
  },
  {
   "cell_type": "code",
   "execution_count": 3,
   "id": "f152972d",
   "metadata": {},
   "outputs": [],
   "source": [
    "#Import the Scikit Learn ML Libraries"
   ]
  },
  {
   "cell_type": "code",
   "execution_count": 4,
   "id": "db1332cf",
   "metadata": {},
   "outputs": [],
   "source": [
    "from sklearn.model_selection import train_test_split\n",
    "from sklearn.metrics import confusion_matrix\n",
    "from sklearn.metrics import classification_report\n",
    "from sklearn.linear_model import LogisticRegression"
   ]
  },
  {
   "cell_type": "code",
   "execution_count": 5,
   "id": "8d078b14",
   "metadata": {},
   "outputs": [],
   "source": [
    "# Read in the data using Panda and display the first 5 records"
   ]
  },
  {
   "cell_type": "code",
   "execution_count": 16,
   "id": "b105bcd7",
   "metadata": {},
   "outputs": [
    {
     "name": "stdout",
     "output_type": "stream",
     "text": [
      "     Self_Study_Daily  Tution_Monthly  Pass_Or_Fail\n",
      "0                   7              27             1\n",
      "1                   2              43             0\n",
      "2                   7              26             1\n",
      "3                   8              29             1\n",
      "4                   3              42             0\n",
      "..                ...             ...           ...\n",
      "995                 6              22             1\n",
      "996                 9              30             1\n",
      "997                 3              39             0\n",
      "998                 7              25             1\n",
      "999                 5              37             0\n",
      "\n",
      "[1000 rows x 3 columns]\n"
     ]
    }
   ],
   "source": [
    "df = pd.read_csv(\"Student-Pass-Fail-Data.csv\")\n",
    "print(df.head())"
   ]
  },
  {
   "cell_type": "code",
   "execution_count": 7,
   "id": "65ef3e3f",
   "metadata": {},
   "outputs": [],
   "source": [
    "# X = df.drop(\"Pass_Or_Fail\",axis = 1)\n",
    "# y = df.Pass_Or_Fail\n",
    "\n",
    "X=df.iloc[:,:-1].values\n",
    "y=df.iloc[:,-1].values\n"
   ]
  },
  {
   "cell_type": "code",
   "execution_count": 8,
   "id": "976aca07",
   "metadata": {},
   "outputs": [],
   "source": [
    "# Split the Labelled data set into Training and Testing sets"
   ]
  },
  {
   "cell_type": "code",
   "execution_count": 9,
   "id": "dc13710b",
   "metadata": {},
   "outputs": [],
   "source": [
    "X_train, X_test, y_train, y_test = train_test_split(X, y, random_state=4)"
   ]
  },
  {
   "cell_type": "code",
   "execution_count": 10,
   "id": "af5bb5ce",
   "metadata": {},
   "outputs": [],
   "source": [
    "# Instansiate a Logistic Regression Object and Train the model\n",
    "# using the training data set"
   ]
  },
  {
   "cell_type": "code",
   "execution_count": 11,
   "id": "437033cb",
   "metadata": {},
   "outputs": [
    {
     "data": {
      "text/plain": [
       "LogisticRegression()"
      ]
     },
     "execution_count": 11,
     "metadata": {},
     "output_type": "execute_result"
    }
   ],
   "source": [
    "logistic_regression = LogisticRegression()\n",
    "logistic_regression.fit(X_train, y_train)"
   ]
  },
  {
   "cell_type": "code",
   "execution_count": 12,
   "id": "b95b1409",
   "metadata": {},
   "outputs": [],
   "source": [
    "# Predict the Testing data set"
   ]
  },
  {
   "cell_type": "code",
   "execution_count": 13,
   "id": "e63d91e9",
   "metadata": {},
   "outputs": [],
   "source": [
    "y_pred = logistic_regression.predict(X_test)"
   ]
  },
  {
   "cell_type": "code",
   "execution_count": 14,
   "id": "3f689c29",
   "metadata": {},
   "outputs": [],
   "source": [
    "# Print the Results: Theta values, Confusion Matrix, Accuracy, Precision, Recall and F1-Score"
   ]
  },
  {
   "cell_type": "code",
   "execution_count": 15,
   "id": "0862bef8",
   "metadata": {},
   "outputs": [
    {
     "name": "stdout",
     "output_type": "stream",
     "text": [
      "Regression coefficients\n",
      "Theta[0][5.11141955]\n",
      "Theta[[ 2.43697194 -0.74397963]]\n",
      "\n",
      "Confusion Matrics\n",
      "[[120   8]\n",
      " [  0 122]]\n",
      "\n",
      "Classification Results\n",
      "              precision    recall  f1-score   support\n",
      "\n",
      "           0       1.00      0.94      0.97       128\n",
      "           1       0.94      1.00      0.97       122\n",
      "\n",
      "    accuracy                           0.97       250\n",
      "   macro avg       0.97      0.97      0.97       250\n",
      "weighted avg       0.97      0.97      0.97       250\n",
      "\n"
     ]
    }
   ],
   "source": [
    "print(\"Regression coefficients\")\n",
    "print(\"Theta[0]\"+str(logistic_regression.intercept_))\n",
    "print(\"Theta\"+str(logistic_regression.coef_))\n",
    "\n",
    "confusion_matrix1 = confusion_matrix(y_test, y_pred)\n",
    "print()\n",
    "print(\"Confusion Matrics\")\n",
    "print(confusion_matrix1)\n",
    "\n",
    "result = classification_report(y_test,y_pred)\n",
    "print()\n",
    "print(\"Classification Results\")\n",
    "print(result)"
   ]
  },
  {
   "cell_type": "code",
   "execution_count": null,
   "id": "e604bf7d",
   "metadata": {},
   "outputs": [],
   "source": []
  }
 ],
 "metadata": {
  "kernelspec": {
   "display_name": "Python 3",
   "language": "python",
   "name": "python3"
  },
  "language_info": {
   "codemirror_mode": {
    "name": "ipython",
    "version": 3
   },
   "file_extension": ".py",
   "mimetype": "text/x-python",
   "name": "python",
   "nbconvert_exporter": "python",
   "pygments_lexer": "ipython3",
   "version": "3.8.8"
  }
 },
 "nbformat": 4,
 "nbformat_minor": 5
}
